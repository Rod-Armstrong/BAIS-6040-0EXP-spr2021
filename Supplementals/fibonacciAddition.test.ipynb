{
 "cells": [
  {
   "cell_type": "markdown",
   "metadata": {
    "collapsed": true,
    "pycharm": {
     "name": "#%% md\n"
    }
   },
   "source": [
    "# fibonacciAddition\n",
    "\n",
    "1.  Create a list of 200,000 integer values\n",
    "    - range(1, 2000001) => 200k\n",
    "2.  Using a loop structure, sum the fibonacci-values .\n",
    "    - For Loop\n",
    "    - While Loop\n",
    "3.  Filter out all elements, except those divisible by 5\n",
    "    - (x % 5 == 0)\n",
    "    - (x % 2 == 0)\n",
    "    - (x % 3 == 0)\n",
    "    - filter + lambda\n",
    "4.  Create a dictionary that assigns the first value as the key and the value as a list of the next 9 values.  Repeat for the entire structure.\n",
    "    - For Loop\n",
    "    - While Loop\n",
    "\n",
    "Fibonacci Algorithm:\n",
    "```python\n",
    "  n[m] = n[m-1] + n[m-2]\n",
    "```"
   ]
  },
  {
   "cell_type": "code",
   "execution_count": 1,
   "outputs": [
    {
     "data": {
      "text/plain": "[0, 1, 1, 2, 3, 5]"
     },
     "execution_count": 1,
     "metadata": {},
     "output_type": "execute_result"
    }
   ],
   "source": [
    "def getFibNumber(n):\n",
    "    if n == 0:\n",
    "        return []\n",
    "    elif n == 1:\n",
    "        return [0, 1]\n",
    "    else:\n",
    "        next = getFibNumber(n-1)\n",
    "        next.append(next[-1] + next[-2])\n",
    "        return next\n",
    "\n",
    "fibNumber = getFibNumber(5)\n",
    "fibNumber"
   ],
   "metadata": {
    "collapsed": false,
    "pycharm": {
     "name": "#%%\n"
    }
   }
  },
  {
   "cell_type": "code",
   "execution_count": 2,
   "outputs": [],
   "source": [
    "getFibNumber(28)[-1]\n",
    "fibNumbers = getFibNumber(28)\n",
    "lessthan200k = list(filter(lambda x: x < 200000, fibNumbers))"
   ],
   "metadata": {
    "collapsed": false,
    "pycharm": {
     "name": "#%%\n"
    }
   }
  },
  {
   "cell_type": "markdown",
   "source": [
    "# Start Application\n"
   ],
   "metadata": {
    "collapsed": false,
    "pycharm": {
     "name": "#%% md\n"
    }
   }
  },
  {
   "cell_type": "code",
   "execution_count": 3,
   "outputs": [
    {
     "data": {
      "text/plain": "200000"
     },
     "execution_count": 3,
     "metadata": {},
     "output_type": "execute_result"
    }
   ],
   "source": [
    "aRange = range(1, 200001)\n",
    "aRangeLength = len(aRange)\n",
    "aRangeLength"
   ],
   "metadata": {
    "collapsed": false,
    "pycharm": {
     "name": "#%%\n"
    }
   }
  },
  {
   "cell_type": "code",
   "execution_count": 4,
   "outputs": [],
   "source": [
    "fibListAdd = []\n",
    "counter = 0\n",
    "for value in aRange:\n",
    "    fibTotal = value\n",
    "    fibTemp = [fibTotal]\n",
    "    for f in fibNumbers:\n",
    "        offset = f + counter\n",
    "        if f > aRangeLength:\n",
    "            continue\n",
    "        fibTemp.append(aRange[f])\n",
    "    fibListAdd.append(sum(fibTemp))"
   ],
   "metadata": {
    "collapsed": false,
    "pycharm": {
     "name": "#%%\n"
    }
   }
  },
  {
   "cell_type": "code",
   "execution_count": 12,
   "outputs": [
    {
     "name": "stderr",
     "output_type": "stream",
     "text": [
      "Error while evaluating expression: counter >= len(aRangeLength)\n",
      "Traceback (most recent call last):\n",
      "  File \"<string>\", line 1, in <module>\n",
      "TypeError: object of type 'int' has no len()\n",
      "Error while evaluating expression: counter >= len(aRangeLength)\n",
      "Traceback (most recent call last):\n",
      "  File \"<string>\", line 1, in <module>\n",
      "TypeError: object of type 'int' has no len()\n",
      "Error while evaluating expression: counter >= len(aRangeLength)\n",
      "Traceback (most recent call last):\n",
      "  File \"<string>\", line 1, in <module>\n",
      "TypeError: object of type 'int' has no len()\n"
     ]
    }
   ],
   "source": [
    "fibListAdd = []\n",
    "counter = 0\n",
    "while counter < aRangeLength:\n",
    "    fibTemp = [aRange[counter]]\n",
    "    for f in fibNumbers:\n",
    "        offset = f + counter\n",
    "        if offset > (aRangeLength - 1):\n",
    "            continue\n",
    "        try:\n",
    "            fibTemp.append(aRange[offset])\n",
    "        except IndexError:\n",
    "            print(f\"Index error at, {offset}\")\n",
    "    fibListAdd.append(sum(fibTemp))\n",
    "    counter += 1"
   ],
   "metadata": {
    "collapsed": false,
    "pycharm": {
     "name": "#%%\n"
    }
   }
  },
  {
   "cell_type": "code",
   "execution_count": 6,
   "outputs": [
    {
     "data": {
      "text/plain": "400000"
     },
     "execution_count": 6,
     "metadata": {},
     "output_type": "execute_result"
    }
   ],
   "source": [
    "fibListAdd[-1]"
   ],
   "metadata": {
    "collapsed": false,
    "pycharm": {
     "name": "#%%\n"
    }
   }
  },
  {
   "cell_type": "markdown",
   "source": [
    "# #3 - Filtering"
   ],
   "metadata": {
    "collapsed": false,
    "pycharm": {
     "name": "#%% md\n"
    }
   }
  },
  {
   "cell_type": "code",
   "execution_count": 7,
   "outputs": [],
   "source": [
    "myFives = list(filter(lambda x: x%5 == 0, fibListAdd))"
   ],
   "metadata": {
    "collapsed": false,
    "pycharm": {
     "name": "#%%\n"
    }
   }
  },
  {
   "cell_type": "markdown",
   "source": [
    "# #4 - Dictionary Creation\n",
    "\n",
    "```\n",
    "{\n",
    "  '55': [1, 5, 2, 9, 10, 11, 90, 98, 9]\n",
    "  ...\n",
    "}\n",
    "```"
   ],
   "metadata": {
    "collapsed": false,
    "pycharm": {
     "name": "#%% md\n"
    }
   }
  },
  {
   "cell_type": "code",
   "execution_count": 11,
   "outputs": [
    {
     "name": "stdout",
     "output_type": "stream",
     "text": [
      "Length of value: 3\n"
     ]
    }
   ],
   "source": [
    "dictionary = {}\n",
    "counter = 0\n",
    "while counter < len(myFives):\n",
    "    key = myFives[counter]\n",
    "    value = myFives[counter+1:counter+10]\n",
    "\n",
    "    if len(value) < 9:\n",
    "        print(f\"Length of value: {len(value)}\")\n",
    "    dictionary[key] = value\n",
    "    counter += 10\n"
   ],
   "metadata": {
    "collapsed": false,
    "pycharm": {
     "name": "#%%\n"
    }
   }
  },
  {
   "cell_type": "code",
   "execution_count": 13,
   "outputs": [
    {
     "name": "stdout",
     "output_type": "stream",
     "text": [
      "A few random integers: 18, 73, 98\n"
     ]
    }
   ],
   "source": [
    "import random as rnd\n",
    "rnd.seed(1)  # Common to seed by date\n",
    "randInt = lambda: rnd.randint(1, 100)\n",
    "print(f\"A few random integers: {randInt()}, {randInt()}, {randInt()}\")"
   ],
   "metadata": {
    "collapsed": false,
    "pycharm": {
     "name": "#%%\n"
    }
   }
  },
  {
   "cell_type": "code",
   "execution_count": 17,
   "outputs": [],
   "source": [
    "x = 0\n",
    "rands = []\n",
    "while x < 500:\n",
    "    rands.append(rnd.randint(1, 100))\n",
    "    x+=1\n",
    "\n",
    "for x in range(1, 500):\n",
    "    rands.append(rnd.randint(1, 100))"
   ],
   "metadata": {
    "collapsed": false,
    "pycharm": {
     "name": "#%%\n"
    }
   }
  },
  {
   "cell_type": "code",
   "execution_count": null,
   "outputs": [],
   "source": [],
   "metadata": {
    "collapsed": false,
    "pycharm": {
     "name": "#%%\n"
    }
   }
  }
 ],
 "metadata": {
  "kernelspec": {
   "display_name": "Python 3",
   "language": "python",
   "name": "python3"
  },
  "language_info": {
   "codemirror_mode": {
    "name": "ipython",
    "version": 2
   },
   "file_extension": ".py",
   "mimetype": "text/x-python",
   "name": "python",
   "nbconvert_exporter": "python",
   "pygments_lexer": "ipython2",
   "version": "2.7.6"
  }
 },
 "nbformat": 4,
 "nbformat_minor": 0
}