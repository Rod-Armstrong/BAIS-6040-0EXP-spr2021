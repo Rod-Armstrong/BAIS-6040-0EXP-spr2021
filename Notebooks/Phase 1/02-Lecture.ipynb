{
 "cells": [
  {
   "cell_type": "markdown",
   "metadata": {
    "pycharm": {
     "name": "#%% md\n"
    }
   },
   "source": [
    "# 02 - Lecture\n",
    "\n",
    "**Date:** 02/01/2021\n",
    "\n",
    "**Topics**\n",
    "\n",
    "* F-Strings Discussion\n",
    "* Summary of Advanced Types\n",
    "* Summary of Flow Control\n"
   ]
  },
  {
   "cell_type": "markdown",
   "metadata": {
    "pycharm": {
     "name": "#%% md\n"
    }
   },
   "source": [
    "# F-Strings"
   ]
  },
  {
   "cell_type": "code",
   "execution_count": 1,
   "metadata": {
    "collapsed": false,
    "jupyter": {
     "outputs_hidden": false
    },
    "pycharm": {
     "name": "#%%\n"
    }
   },
   "outputs": [
    {
     "data": {
      "text/plain": "[1, 2, 3, 4]"
     },
     "execution_count": 1,
     "metadata": {},
     "output_type": "execute_result"
    }
   ],
   "source": [
    "# Major Limitation, end of cell is when things print.  We may want to print within the code\n",
    "list(range(1, 5))"
   ]
  },
  {
   "cell_type": "code",
   "execution_count": 2,
   "metadata": {
    "collapsed": false,
    "jupyter": {
     "outputs_hidden": false
    },
    "pycharm": {
     "name": "#%%\n"
    }
   },
   "outputs": [
    {
     "name": "stdout",
     "output_type": "stream",
     "text": [
      "Before calling myFunction(5)\n",
      "In function, passed in variable: 5\n",
      "After increment: 6\n"
     ]
    },
    {
     "data": {
      "text/plain": "6"
     },
     "execution_count": 2,
     "metadata": {},
     "output_type": "execute_result"
    }
   ],
   "source": [
    "def myFunction(myVar):\n",
    "    print(f\"In function, passed in variable: {myVar}\")\n",
    "    myVar += 1\n",
    "    print(f\"After increment: {myVar}\")\n",
    "    return myVar\n",
    "\n",
    "print(\"Before calling myFunction(5)\")\n",
    "myFunction(5)"
   ]
  },
  {
   "cell_type": "code",
   "execution_count": 3,
   "metadata": {
    "collapsed": false,
    "jupyter": {
     "outputs_hidden": false
    },
    "pycharm": {
     "name": "#%%\n"
    }
   },
   "outputs": [
    {
     "name": "stdout",
     "output_type": "stream",
     "text": [
      "A random float: 1.25\n",
      "A random float 1.25\n",
      "\n",
      "\n",
      "\n",
      "\n",
      "In function, passed in variable: 5\n",
      "After increment: 6\n",
      "A call to myFunction: 6\n",
      "\n",
      "\n",
      "\n",
      "\n",
      "In function, passed in variable: 10\n",
      "After increment: 11\n",
      "A second call to myFunction 11\n",
      "A few random integers: 18, 73, 98\n"
     ]
    }
   ],
   "source": [
    "# With and without f-strings:\n",
    "print(\"A random float: \" + str(1.25))\n",
    "print(f\"A random float {1.25}\")\n",
    "\n",
    "print(\"\\n\\n\\n\")\n",
    "\n",
    "# Can be used for more complicated operations:\n",
    "print(\"A call to myFunction: \" + str(myFunction(5)))\n",
    "\n",
    "print(\"\\n\\n\\n\")\n",
    "print(f\"A second call to myFunction {myFunction(10)}\")\n",
    "\n",
    "# Really helpful in this module to clean up code\n",
    "import random as rnd\n",
    "rnd.seed(1)  # Common to seed by date\n",
    "randInt = lambda: rnd.randint(1, 100)\n",
    "print(f\"A few random integers: {randInt()}, {randInt()}, {randInt()}\")"
   ]
  },
  {
   "cell_type": "markdown",
   "metadata": {
    "pycharm": {
     "name": "#%% md\n"
    }
   },
   "source": [
    "Worth noting, this'll come in really handy in the 2nd homework on up.\n",
    "\n",
    "# Advanced Types\n",
    "## Lists, Tuples, Dictionary, Sets"
   ]
  },
  {
   "cell_type": "code",
   "execution_count": 4,
   "metadata": {
    "collapsed": false,
    "jupyter": {
     "outputs_hidden": false
    },
    "pycharm": {
     "name": "#%%\n"
    }
   },
   "outputs": [
    {
     "data": {
      "text/plain": "[1, 2, 'Hello', 'World']"
     },
     "execution_count": 4,
     "metadata": {},
     "output_type": "execute_result"
    }
   ],
   "source": [
    "aList = [1, 2, \"Hello\", \"World\"]\n",
    "# aList = aList + [123]\n",
    "# aList.remove(\"Hello\")\n",
    "aList"
   ]
  },
  {
   "cell_type": "code",
   "execution_count": 5,
   "metadata": {
    "collapsed": false,
    "jupyter": {
     "outputs_hidden": false
    },
    "pycharm": {
     "name": "#%%\n"
    }
   },
   "outputs": [],
   "source": [
    "aTuple = (1, 2, 3, \"foo\", \"bar\")\n",
    "# aTuple = aTuple + 123"
   ]
  },
  {
   "cell_type": "code",
   "execution_count": 6,
   "metadata": {
    "collapsed": false,
    "jupyter": {
     "outputs_hidden": false
    },
    "pycharm": {
     "name": "#%%\n"
    }
   },
   "outputs": [
    {
     "data": {
      "text/plain": "{10, 5, 'String1', 'string1'}"
     },
     "execution_count": 6,
     "metadata": {},
     "output_type": "execute_result"
    }
   ],
   "source": [
    "aSet = {5, 10, 10, \"String1\", \"string1\"}\n",
    "# aSet.pop()\n",
    "aSet"
   ]
  },
  {
   "cell_type": "code",
   "execution_count": 7,
   "metadata": {
    "collapsed": false,
    "jupyter": {
     "outputs_hidden": false
    },
    "pycharm": {
     "name": "#%%\n"
    }
   },
   "outputs": [
    {
     "name": "stdout",
     "output_type": "stream",
     "text": [
      "Dictionary: {5: 10, 10: 20, 'Hello': 'World'}\n",
      "Dictionary Now; {5: 10, 10: 20, 'Hello': 'World', 400: 800}\n",
      "Dictionary now: {5: 10, 10: 20, 400: 800}\n"
     ]
    }
   ],
   "source": [
    "aDictionary = {5: 10, 10: 20, \"Hello\": \"World\"}\n",
    "print(f\"Dictionary: {aDictionary}\")\n",
    "aDictionary[400] = 800\n",
    "print(f\"Dictionary Now; {aDictionary}\")\n",
    "aDictionary.pop(\"Hello\")\n",
    "print(f\"Dictionary now: {aDictionary}\")"
   ]
  },
  {
   "cell_type": "markdown",
   "metadata": {
    "pycharm": {
     "name": "#%% md\n"
    }
   },
   "source": [
    "# Flow Control\n",
    "## For Loops"
   ]
  },
  {
   "cell_type": "code",
   "execution_count": 8,
   "metadata": {
    "collapsed": false,
    "jupyter": {
     "outputs_hidden": false
    },
    "pycharm": {
     "name": "#%%\n"
    }
   },
   "outputs": [
    {
     "data": {
      "text/plain": "[2,\n 4,\n 6,\n 8,\n 10,\n 12,\n 14,\n 16,\n 18,\n 20,\n 22,\n 24,\n 26,\n 28,\n 30,\n 32,\n 34,\n 36,\n 38,\n 40,\n 42,\n 44,\n 46,\n 48,\n 50,\n 52,\n 54,\n 56,\n 58,\n 60,\n 62,\n 64,\n 66,\n 68,\n 70,\n 72,\n 74,\n 76,\n 78,\n 80,\n 82,\n 84,\n 86,\n 88,\n 90,\n 92,\n 94,\n 96,\n 98,\n 100]"
     },
     "execution_count": 8,
     "metadata": {},
     "output_type": "execute_result"
    }
   ],
   "source": [
    "oneHundredInts = range(1, 101)\n",
    "eventInts = []\n",
    "for int in oneHundredInts:\n",
    "    if int % 2 == 0:\n",
    "        eventInts.append(int)\n",
    "eventInts"
   ]
  },
  {
   "cell_type": "code",
   "execution_count": 8,
   "metadata": {
    "collapsed": false,
    "jupyter": {
     "outputs_hidden": false
    },
    "pycharm": {
     "name": "#%%\n"
    }
   },
   "outputs": [],
   "source": []
  }
 ],
 "metadata": {
  "kernelspec": {
   "display_name": "Python 3",
   "language": "python",
   "name": "python3"
  },
  "language_info": {
   "codemirror_mode": {
    "name": "ipython",
    "version": 3
   },
   "file_extension": ".py",
   "mimetype": "text/x-python",
   "name": "python",
   "nbconvert_exporter": "python",
   "pygments_lexer": "ipython3",
   "version": "3.8.5"
  }
 },
 "nbformat": 4,
 "nbformat_minor": 4
}