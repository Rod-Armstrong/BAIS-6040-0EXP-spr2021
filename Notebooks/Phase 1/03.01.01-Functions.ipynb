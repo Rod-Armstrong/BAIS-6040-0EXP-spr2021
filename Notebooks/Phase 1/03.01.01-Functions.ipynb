{
 "cells": [
  {
   "cell_type": "markdown",
   "metadata": {
    "collapsed": true,
    "pycharm": {
     "name": "#%% md\n"
    }
   },
   "source": [
    "# 02.02.01 - Functions\n",
    "\n",
    "## Description\n",
    "\n",
    "This document describes functions in general, and two main parts:\n",
    "\n",
    "1. Definition of named functions\n",
    "   - Arguments\n",
    "   - Names\n",
    "2. Lambda Functions\n",
    "\n",
    "## Named Functions"
   ]
  },
  {
   "cell_type": "code",
   "execution_count": 7,
   "outputs": [
    {
     "name": "stdout",
     "output_type": "stream",
     "text": [
      "a, before function => 0\n",
      "a, as assigned in function => 5\n",
      "a, after function => 0\n"
     ]
    }
   ],
   "source": [
    "from math import sqrt\n",
    "def aFunctionWithoutArguments():\n",
    "    print(f\"This function has no arguments!\")\n",
    "\n",
    "a = 0\n",
    "print(f\"a, before function => {a}\")\n",
    "def localsExample():\n",
    "    a = 5\n",
    "    return a\n",
    "print(f\"a, as assigned in function => {localsExample()}\")\n",
    "print(f\"a, after function => {a}\")"
   ],
   "metadata": {
    "collapsed": false,
    "pycharm": {
     "name": "#%%\n"
    }
   }
  },
  {
   "cell_type": "code",
   "execution_count": 5,
   "outputs": [
    {
     "name": "stdout",
     "output_type": "stream",
     "text": [
      "a, before function => 0\n",
      "function return: None\n",
      "a, after function => 5\n"
     ]
    }
   ],
   "source": [
    "# This isn't good practice, but to reference globals, we can reference global variables.\n",
    "print(f\"a, before function => {a}\")\n",
    "def globalsExample():\n",
    "    globals()['a'] = 5\n",
    "    # note no return is necessary\n",
    "print(f\"function return: {globalsExample()}\")\n",
    "print(f\"a, after function => {a}\")\n"
   ],
   "metadata": {
    "collapsed": false,
    "pycharm": {
     "name": "#%%\n"
    }
   }
  },
  {
   "cell_type": "code",
   "execution_count": 9,
   "outputs": [
    {
     "name": "stdout",
     "output_type": "stream",
     "text": [
      "The value that came in is: 9\n",
      "The output of functionWithArgument(9) => 3.0\n",
      "The values that came in are: ['Test', 12.25, [2, 5, 9]]\n",
      "The output of functionWithArguments('Test', 12.25, [2, 5, 9]) => None\n"
     ]
    }
   ],
   "source": [
    "# Functions with arguments\n",
    "def functionWithArgument(variableA):\n",
    "    print(f\"The value that came in is: {variableA}\")\n",
    "    return sqrt(variableA)\n",
    "\n",
    "def functionWithArguments(variableA, variableB, variableC):\n",
    "    print(f\"The values that came in are: {[variableA, variableB, variableC]}\")\n",
    "    return None\n",
    "\n",
    "print(f\"The output of functionWithArgument(9) => {functionWithArgument(9)}\")\n",
    "print(f\"The output of functionWithArguments('Test', 12.25, [2, 5, 9]) => {functionWithArguments('Test', 12.25, [2, 5, 9])}\")"
   ],
   "metadata": {
    "collapsed": false,
    "pycharm": {
     "name": "#%%\n"
    }
   }
  },
  {
   "cell_type": "code",
   "execution_count": 11,
   "outputs": [
    {
     "name": "stdout",
     "output_type": "stream",
     "text": [
      "The values that came in are: [5, 'Foo', {'a': 'b', 'E': 'f'}]\n"
     ]
    }
   ],
   "source": [
    "# Can use named arguments too:\n",
    "functionWithArguments(variableC={\"a\": \"b\", \"E\": \"f\"}, variableA=5, variableB=\"Foo\")"
   ],
   "metadata": {
    "collapsed": false,
    "pycharm": {
     "name": "#%%\n"
    }
   }
  },
  {
   "cell_type": "code",
   "execution_count": 13,
   "outputs": [
    {
     "name": "stdout",
     "output_type": "stream",
     "text": [
      "The values that came in are: ['Foo', None, None]\n",
      "functionWithArguments(variableA='Foo') => None\n",
      "The values that came in are: ['Foo', None, None]\n",
      "functionWithArguments(variableB='Foo') => None\n",
      "The values that came in are: ['Foo', None, None]\n",
      "functionWithArguments(variableC='Foo') => None\n"
     ]
    }
   ],
   "source": [
    "# Can define nullable arguments\n",
    "def functionWithNoneArguments(variableA = None, variableB = None, variableC = None):\n",
    "    print(f\"The values that came in are: {[variableA, variableB, variableC]}\")\n",
    "    return None\n",
    "\n",
    "print(f\"functionWithArguments(variableA='Foo') => {functionWithNoneArguments('Foo')}\")\n",
    "print(f\"functionWithArguments(variableB='Foo') => {functionWithNoneArguments('Foo')}\")\n",
    "print(f\"functionWithArguments(variableC='Foo') => {functionWithNoneArguments('Foo')}\")"
   ],
   "metadata": {
    "collapsed": false,
    "pycharm": {
     "name": "#%%\n"
    }
   }
  },
  {
   "cell_type": "markdown",
   "source": [
    "## Lambda Functions\n",
    "These are useful for \"one-offs\".  Functionality that's used limited times.  Review over 2.02.01-FlowControl.ipynb for other examples"
   ],
   "metadata": {
    "collapsed": false,
    "pycharm": {
     "name": "#%% md\n"
    }
   }
  },
  {
   "cell_type": "code",
   "execution_count": 17,
   "outputs": [
    {
     "name": "stdout",
     "output_type": "stream",
     "text": [
      "isEven(2) => True\n",
      "isEven(3) => False\n",
      "myEvenCheck(2) => True\n",
      "myEvenCheck(3) => False\n"
     ]
    }
   ],
   "source": [
    "def isEven(x):\n",
    "    return x % 2 == 0\n",
    "myEvenCheck = lambda x: x % 2 == 0\n",
    "\n",
    "print(f\"isEven(2) => {isEven(2)}\")\n",
    "print(f\"isEven(3) => {isEven(3)}\")\n",
    "print(f\"myEvenCheck(2) => {myEvenCheck(2)}\")\n",
    "print(f\"myEvenCheck(3) => {myEvenCheck(3)}\")"
   ],
   "metadata": {
    "collapsed": false,
    "pycharm": {
     "name": "#%%\n"
    }
   }
  },
  {
   "cell_type": "code",
   "execution_count": null,
   "outputs": [],
   "source": [],
   "metadata": {
    "collapsed": false,
    "pycharm": {
     "name": "#%%\n"
    }
   }
  }
 ],
 "metadata": {
  "kernelspec": {
   "display_name": "Python 3",
   "language": "python",
   "name": "python3"
  },
  "language_info": {
   "codemirror_mode": {
    "name": "ipython",
    "version": 2
   },
   "file_extension": ".py",
   "mimetype": "text/x-python",
   "name": "python",
   "nbconvert_exporter": "python",
   "pygments_lexer": "ipython2",
   "version": "2.7.6"
  }
 },
 "nbformat": 4,
 "nbformat_minor": 0
}