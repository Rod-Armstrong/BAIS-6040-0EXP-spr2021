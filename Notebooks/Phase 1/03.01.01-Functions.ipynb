{
 "cells": [
  {
   "cell_type": "markdown",
   "metadata": {
    "pycharm": {
     "name": "#%% md\n"
    }
   },
   "source": [
    "# 03.02.01 - Functions\n",
    "\n",
    "## Description\n",
    "\n",
    "This document describes functions in general, and two main parts:\n",
    "\n",
    "1. Definition of named functions\n",
    "   - Arguments\n",
    "   - Names\n",
    "2. Lambda Functions\n",
    "\n",
    "## Named Functions"
   ]
  },
  {
   "cell_type": "code",
   "execution_count": 7,
   "metadata": {
    "collapsed": false,
    "jupyter": {
     "outputs_hidden": false
    },
    "pycharm": {
     "name": "#%%\n"
    }
   },
   "outputs": [
    {
     "name": "stdout",
     "output_type": "stream",
     "text": [
      "a, before function => 0\n",
      "a, as assigned in function => 5\n",
      "a, after function => 0\n"
     ]
    }
   ],
   "source": [
    "from math import sqrt\n",
    "def aFunctionWithoutArguments():\n",
    "    print(f\"This function has no arguments!\")\n",
    "\n",
    "a = 0\n",
    "print(f\"a, before function => {a}\")\n",
    "def localsExample():\n",
    "    a = 5\n",
    "    return a\n",
    "print(f\"a, as assigned in function => {localsExample()}\")\n",
    "print(f\"a, after function => {a}\")"
   ]
  },
  {
   "cell_type": "code",
   "execution_count": 5,
   "metadata": {
    "collapsed": false,
    "jupyter": {
     "outputs_hidden": false
    },
    "pycharm": {
     "name": "#%%\n"
    }
   },
   "outputs": [
    {
     "name": "stdout",
     "output_type": "stream",
     "text": [
      "a, before function => 0\n",
      "function return: None\n",
      "a, after function => 5\n"
     ]
    }
   ],
   "source": [
    "# This isn't good practice, but to reference globals, we can reference global variables.\n",
    "print(f\"a, before function => {a}\")\n",
    "def globalsExample():\n",
    "    globals()['a'] = 5\n",
    "    # note no return is necessary\n",
    "print(f\"function return: {globalsExample()}\")\n",
    "print(f\"a, after function => {a}\")\n"
   ]
  },
  {
   "cell_type": "code",
   "execution_count": 9,
   "metadata": {
    "collapsed": false,
    "jupyter": {
     "outputs_hidden": false
    },
    "pycharm": {
     "name": "#%%\n"
    }
   },
   "outputs": [
    {
     "name": "stdout",
     "output_type": "stream",
     "text": [
      "The value that came in is: 9\n",
      "The output of functionWithArgument(9) => 3.0\n",
      "The values that came in are: ['Test', 12.25, [2, 5, 9]]\n",
      "The output of functionWithArguments('Test', 12.25, [2, 5, 9]) => None\n"
     ]
    }
   ],
   "source": [
    "# Functions with arguments\n",
    "def functionWithArgument(variableA):\n",
    "    print(f\"The value that came in is: {variableA}\")\n",
    "    return sqrt(variableA)\n",
    "\n",
    "def functionWithArguments(variableA, variableB, variableC):\n",
    "    print(f\"The values that came in are: {[variableA, variableB, variableC]}\")\n",
    "    return None\n",
    "\n",
    "print(f\"The output of functionWithArgument(9) => {functionWithArgument(9)}\")\n",
    "print(f\"The output of functionWithArguments('Test', 12.25, [2, 5, 9]) => {functionWithArguments('Test', 12.25, [2, 5, 9])}\")"
   ]
  },
  {
   "cell_type": "code",
   "execution_count": 11,
   "metadata": {
    "collapsed": false,
    "jupyter": {
     "outputs_hidden": false
    },
    "pycharm": {
     "name": "#%%\n"
    }
   },
   "outputs": [
    {
     "name": "stdout",
     "output_type": "stream",
     "text": [
      "The values that came in are: [5, 'Foo', {'a': 'b', 'E': 'f'}]\n"
     ]
    }
   ],
   "source": [
    "# Can use named arguments too:\n",
    "functionWithArguments(variableC={\"a\": \"b\", \"E\": \"f\"}, variableA=5, variableB=\"Foo\")"
   ]
  },
  {
   "cell_type": "code",
   "execution_count": 2,
   "metadata": {
    "collapsed": false,
    "jupyter": {
     "outputs_hidden": false
    },
    "pycharm": {
     "name": "#%%\n"
    }
   },
   "outputs": [
    {
     "name": "stdout",
     "output_type": "stream",
     "text": [
      "The values that came in are: ['Foo', None, None]\n",
      "functionWithArguments(variableA='Foo') => None\n",
      "The values that came in are: [None, 'foo', None]\n",
      "functionWithArguments(variableB='Foo') => None\n",
      "The values that came in are: [None, None, 'Foo']\n",
      "functionWithArguments(variableC='Foo') => None\n"
     ]
    }
   ],
   "source": [
    "# Can define nullable arguments\n",
    "def functionWithNoneArguments(variableA = None, variableB = None, variableC = None):\n",
    "    print(f\"The values that came in are: {[variableA, variableB, variableC]}\")\n",
    "    return None\n",
    "\n",
    "print(f\"functionWithArguments(variableA='Foo') => {functionWithNoneArguments(variableA='Foo')}\")\n",
    "print(f\"functionWithArguments(variableB='Foo') => {functionWithNoneArguments(variableB='foo')}\")\n",
    "print(f\"functionWithArguments(variableC='Foo') => {functionWithNoneArguments(variableC='Foo')}\")"
   ]
  },
  {
   "cell_type": "markdown",
   "metadata": {
    "pycharm": {
     "name": "#%% md\n"
    }
   },
   "source": [
    "## Lambda Functions\n",
    "These are useful for \"one-offs\".  Functionality that's used limited times.  Review over 2.02.01-FlowControl.ipynb for other examples"
   ]
  },
  {
   "cell_type": "code",
   "execution_count": 17,
   "metadata": {
    "collapsed": false,
    "jupyter": {
     "outputs_hidden": false
    },
    "pycharm": {
     "name": "#%%\n"
    }
   },
   "outputs": [
    {
     "name": "stdout",
     "output_type": "stream",
     "text": [
      "isEven(2) => True\n",
      "isEven(3) => False\n",
      "myEvenCheck(2) => True\n",
      "myEvenCheck(3) => False\n"
     ]
    }
   ],
   "source": [
    "def isEven(x):\n",
    "    return x % 2 == 0\n",
    "myEvenCheck = lambda x: x % 2 == 0\n",
    "\n",
    "print(f\"isEven(2) => {isEven(2)}\")\n",
    "print(f\"isEven(3) => {isEven(3)}\")\n",
    "print(f\"myEvenCheck(2) => {myEvenCheck(2)}\")\n",
    "print(f\"myEvenCheck(3) => {myEvenCheck(3)}\")"
   ]
  },
  {
   "cell_type": "code",
   "execution_count": 1,
   "metadata": {
    "collapsed": false,
    "jupyter": {
     "outputs_hidden": false
    },
    "pycharm": {
     "name": "#%%\n"
    }
   },
   "outputs": [
    {
     "data": {
      "text/plain": [
       "90"
      ]
     },
     "execution_count": 1,
     "metadata": {},
     "output_type": "execute_result"
    }
   ],
   "source": [
    "# You can add more lambdas in lambdas\n",
    "sum(map(lambda x: x * 2, filter(lambda x: x < 10, range(1,100))))\n"
   ]
  },
  {
   "cell_type": "code",
   "execution_count": 3,
   "metadata": {
    "collapsed": false,
    "jupyter": {
     "outputs_hidden": false
    },
    "pycharm": {
     "name": "#%%\n"
    }
   },
   "outputs": [
    {
     "data": {
      "text/plain": [
       "[1, 2, 3, 4, 5, 6, 7, 8, 9]"
      ]
     },
     "execution_count": 3,
     "metadata": {},
     "output_type": "execute_result"
    }
   ],
   "source": [
    "list(filter(lambda x: x < 10, range(1, 100)))"
   ]
  },
  {
   "cell_type": "code",
   "execution_count": 6,
   "metadata": {
    "collapsed": false,
    "jupyter": {
     "outputs_hidden": false
    },
    "pycharm": {
     "name": "#%%\n"
    }
   },
   "outputs": [
    {
     "data": {
      "text/plain": [
       "[2, 4, 6, 8, 10, 12, 14, 16, 18]"
      ]
     },
     "execution_count": 6,
     "metadata": {},
     "output_type": "execute_result"
    }
   ],
   "source": [
    "a = list(map(lambda x: x * 2, filter(lambda x: x < 10, range(1, 100))))\n",
    "list(map(lambda x: x * 2, filter(lambda x: x < 10, range(1, 100))))"
   ]
  },
  {
   "cell_type": "code",
   "execution_count": 7,
   "metadata": {
    "collapsed": false,
    "jupyter": {
     "outputs_hidden": false
    },
    "pycharm": {
     "name": "#%%\n"
    }
   },
   "outputs": [
    {
     "data": {
      "text/plain": [
       "90"
      ]
     },
     "execution_count": 7,
     "metadata": {},
     "output_type": "execute_result"
    }
   ],
   "source": [
    "sum(a)\n"
   ]
  },
  {
   "cell_type": "code",
   "execution_count": null,
   "metadata": {
    "collapsed": false,
    "jupyter": {
     "outputs_hidden": false
    },
    "pycharm": {
     "name": "#%%\n"
    }
   },
   "outputs": [],
   "source": []
  }
 ],
 "metadata": {
  "kernelspec": {
   "display_name": "Python 3",
   "language": "python",
   "name": "python3"
  },
  "language_info": {
   "codemirror_mode": {
    "name": "ipython",
    "version": 3
   },
   "file_extension": ".py",
   "mimetype": "text/x-python",
   "name": "python",
   "nbconvert_exporter": "python",
   "pygments_lexer": "ipython3",
   "version": "3.8.5"
  }
 },
 "nbformat": 4,
 "nbformat_minor": 4
}