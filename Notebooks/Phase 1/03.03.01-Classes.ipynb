{
 "cells": [
  {
   "cell_type": "markdown",
   "metadata": {
    "collapsed": true,
    "pycharm": {
     "name": "#%% md\n"
    }
   },
   "source": [
    "# 03.03.01 - Classes\n",
    "\n",
    "## Description\n",
    "\n",
    "This document demonstrates the concepts of classes.  Classes are part abstraction from the use of functions we've been doing, and can group state together with functionality.  **many** things written (in most languages) tend to use classes.\n",
    "\n",
    "This document is split into 3 parts:\n",
    "\n",
    "1. The limitation of current ways of writing code.\n",
    "2. Refactoring #1 to classes\n",
    "3. Extending existing classes (monkey patching)"
   ]
  },
  {
   "cell_type": "markdown",
   "source": [
    "# Limitation of functions/global variables"
   ],
   "metadata": {
    "collapsed": false,
    "pycharm": {
     "name": "#%% md\n"
    }
   }
  },
  {
   "cell_type": "code",
   "execution_count": 1,
   "outputs": [
    {
     "name": "stdout",
     "output_type": "stream",
     "text": [
      "A dog says, Woof\n",
      "A cat says, Meow\n",
      "A snake says, ???\n",
      "A cat says, ???\n"
     ]
    }
   ],
   "source": [
    "cat_says = \"Meow\"\n",
    "dog_says = \"Woof\"\n",
    "snake_says = \"???\"\n",
    "\n",
    "# Option 1, different functions for each \"say\"\n",
    "def say_dog(dog_says):\n",
    "    print(f\"A dog says, {dog_says}\")\n",
    "\n",
    "def say_cat(cat_says):\n",
    "    print(f\"A cat says, {cat_says}\")\n",
    "\n",
    "def say_snake(snake_says):\n",
    "    print(f\"A snake says, {snake_says}\")\n",
    "\n",
    "say_dog(dog_says)\n",
    "say_cat(cat_says)\n",
    "say_snake(snake_says)\n",
    "say_cat(snake_says) #???"
   ],
   "metadata": {
    "collapsed": false,
    "pycharm": {
     "name": "#%%\n"
    }
   }
  },
  {
   "cell_type": "code",
   "execution_count": 2,
   "outputs": [
    {
     "name": "stdout",
     "output_type": "stream",
     "text": [
      "A dog says, Woof\n",
      "A cat says, Meow\n",
      "A snake says, ???\n"
     ]
    }
   ],
   "source": [
    "# Option 2, using if statements\n",
    "def say(animal):\n",
    "    if(animal == \"Meow\"):\n",
    "        print(f\"A cat says, {animal}\")\n",
    "    elif(animal == \"Woof\"):\n",
    "        print(f\"A dog says, {dog_says}\")   # Note it's reading from global namespace\n",
    "    elif(animal == \"???\"):\n",
    "        print(f\"A snake says, {animal}\")\n",
    "\n",
    "say(dog_says)\n",
    "say(cat_says)\n",
    "say(snake_says)"
   ],
   "metadata": {
    "collapsed": false,
    "pycharm": {
     "name": "#%%\n"
    }
   }
  },
  {
   "cell_type": "markdown",
   "source": [
    "# Fixing this using classes\n",
    "Classes will help group state with methods, to reduce duplication and allow expansion later on."
   ],
   "metadata": {
    "collapsed": false,
    "pycharm": {
     "name": "#%% md\n"
    }
   }
  },
  {
   "cell_type": "code",
   "execution_count": 3,
   "outputs": [
    {
     "name": "stdout",
     "output_type": "stream",
     "text": [
      "A Dog says, Woof\n",
      "A Cat says, Woof\n",
      "A Snake says, ???\n",
      "A Snake says, hisssssss\n"
     ]
    }
   ],
   "source": [
    "class Animal:\n",
    "    def __init__(self, animal, says):\n",
    "        self.animal = animal\n",
    "        self.says = says\n",
    "    def say(self):\n",
    "        print(f\"A {self.animal} says, {self.says}\")\n",
    "\n",
    "dog = Animal(\"Dog\", \"Woof\")\n",
    "dog.say()\n",
    "\n",
    "cat = Animal(\"Cat\", \"Woof\")\n",
    "cat.say()\n",
    "\n",
    "snake = Animal(\"Snake\", \"???\")\n",
    "snake.say()\n",
    "snake.says = \"hisssssss\"\n",
    "snake.say()"
   ],
   "metadata": {
    "collapsed": false,
    "pycharm": {
     "name": "#%%\n"
    }
   }
  },
  {
   "cell_type": "code",
   "execution_count": 3,
   "outputs": [],
   "source": [],
   "metadata": {
    "collapsed": false,
    "pycharm": {
     "name": "#%%\n"
    }
   }
  }
 ],
 "metadata": {
  "kernelspec": {
   "display_name": "Python 3",
   "language": "python",
   "name": "python3"
  },
  "language_info": {
   "codemirror_mode": {
    "name": "ipython",
    "version": 2
   },
   "file_extension": ".py",
   "mimetype": "text/x-python",
   "name": "python",
   "nbconvert_exporter": "python",
   "pygments_lexer": "ipython2",
   "version": "2.7.6"
  }
 },
 "nbformat": 4,
 "nbformat_minor": 0
}