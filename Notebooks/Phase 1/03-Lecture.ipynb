{
 "cells": [
  {
   "cell_type": "markdown",
   "metadata": {
    "collapsed": true,
    "pycharm": {
     "name": "#%% md\n"
    }
   },
   "source": [
    "# 02 - Lecture\n",
    "\n",
    "**Date:** 02/08/2021\n",
    "\n",
    "**Topics**\n",
    "\n",
    "* Student Questions\n",
    "  * F-Strings vs Sets\n",
    "  * For Loops vs While Loops\n",
    "* New Topics\n",
    "  * Functions\n",
    "  * Modules\n",
    "  * NumPy"
   ]
  },
  {
   "cell_type": "markdown",
   "source": [
    "## F-Strings vs Sets\n",
    "Remember - f-string use of {} does not equal to a set version of {}"
   ],
   "metadata": {
    "collapsed": false,
    "pycharm": {
     "name": "#%% md\n"
    }
   }
  },
  {
   "cell_type": "code",
   "execution_count": 4,
   "outputs": [
    {
     "name": "stdout",
     "output_type": "stream",
     "text": [
      "This is an f-string, when we use brackets, we evaluate the contents, for example: {1, 2, 3, 4, 5} \n",
      "==> or: 10 \n",
      "a is now: {1, 2, 3, 4, 5, 100}\n",
      "aList contents: [1, 2, 3, 4, 5, 6, 7, 8, 9]\n"
     ]
    },
    {
     "data": {
      "text/plain": "{1, 2, 3, 4, 5, 6, 7, 8, 9}"
     },
     "execution_count": 4,
     "metadata": {},
     "output_type": "execute_result"
    }
   ],
   "source": [
    "a = {1, 2, 3, 4, 5}   # This is a set\n",
    "print(f\"This is an f-string, when we use brackets, we evaluate the contents, for example: {a} \")\n",
    "print(f\"==> or: {(1+1) * 5} \")\n",
    "\n",
    "# Sets are a lot like list in what we can do.\n",
    "a.add(100)\n",
    "print(f\"a is now: {a}\")\n",
    "\n",
    "# We can also convert other structures as needed\n",
    "aList = list(range(1, 10))\n",
    "print(f\"aList contents: {aList}\")\n",
    "set(aList)"
   ],
   "metadata": {
    "collapsed": false,
    "pycharm": {
     "name": "#%%\n"
    }
   }
  },
  {
   "cell_type": "markdown",
   "source": [
    "## For Loops vs While Loops\n",
    "Remember that **all** tools are potentially useful in the right situation.  Do not discount any one tool from the job, especially anything one person (including myself) says.  Question everything.\n",
    "- When you need a \"counter\", use a while loop.  If you need to just iterate, then you may not have to.\n",
    "\n",
    "**IT DEPENDS**"
   ],
   "metadata": {
    "collapsed": false,
    "pycharm": {
     "name": "#%% md\n"
    }
   }
  },
  {
   "cell_type": "code",
   "execution_count": 12,
   "outputs": [
    {
     "name": "stdout",
     "output_type": "stream",
     "text": [
      "aStringList is equal to ['1', '2', '3', '4', '5', '6', '7', '8', '9']\n",
      "aStringList2 is equal to ['1', '2', '3', '4', '5', '6', '7', '8', '9']\n",
      "aStringList3 is equal to ['1', '2', '3', '4', '5', '6', '7', '8', '9']\n",
      "aStringList4 is equal to ['1', '2', '3', '4', '5', '6', '7', '8', '9']\n"
     ]
    }
   ],
   "source": [
    "# Using a for loop\n",
    "aStringList = []\n",
    "for x in range(1, 10):\n",
    "    aStringList.append(str(x))\n",
    "print(f\"aStringList is equal to {aStringList}\")\n",
    "\n",
    "# Using a while loop\n",
    "aStringList2 = []\n",
    "counter = 1\n",
    "while counter < 10:\n",
    "    aStringList2.append(str(counter))\n",
    "    counter += 1\n",
    "print(f\"aStringList2 is equal to {aStringList2}\")\n",
    "\n",
    "# Other options\n",
    "aStringList3 = list(map(lambda x: str(x), range(1, 10)))\n",
    "print(f\"aStringList3 is equal to {aStringList3}\")\n",
    "\n",
    "aStringList4 = [str(x) for x in range(1, 10)]\n",
    "print(f\"aStringList4 is equal to {aStringList4}\")"
   ],
   "metadata": {
    "collapsed": false,
    "pycharm": {
     "name": "#%%\n"
    }
   }
  },
  {
   "cell_type": "markdown",
   "source": [
    "## Functions\n",
    "A major building block to proper code generation and reuse.  In short, if you are copy/pasting stuff, then a function will serve you far better for more reuse, and easier to read code."
   ],
   "metadata": {
    "collapsed": false,
    "pycharm": {
     "name": "#%% md\n"
    }
   }
  },
  {
   "cell_type": "code",
   "execution_count": 13,
   "outputs": [],
   "source": [
    "def myGenericFunction():\n",
    "    1+1\n",
    "\n",
    "myGenericFunction()  # Notice no return or value here!"
   ],
   "metadata": {
    "collapsed": false,
    "pycharm": {
     "name": "#%%\n"
    }
   }
  },
  {
   "cell_type": "code",
   "execution_count": 14,
   "outputs": [
    {
     "data": {
      "text/plain": "2"
     },
     "execution_count": 14,
     "metadata": {},
     "output_type": "execute_result"
    }
   ],
   "source": [
    "def myGenericFunction():\n",
    "    return 1+1\n",
    "myGenericFunction()  # Now we have a return value"
   ],
   "metadata": {
    "collapsed": false,
    "pycharm": {
     "name": "#%%\n"
    }
   }
  },
  {
   "cell_type": "code",
   "execution_count": 16,
   "outputs": [
    {
     "name": "stdout",
     "output_type": "stream",
     "text": [
      "mySlightlyMoreUsefulFunction(5) => 25\n",
      "mySlightlyMoreUsefulFunction(10) => 100\n"
     ]
    }
   ],
   "source": [
    "def mySlightlyMoreUsefulFunction(someValue):\n",
    "    return someValue * someValue\n",
    "print(f\"mySlightlyMoreUsefulFunction(5) => {mySlightlyMoreUsefulFunction(5)}\")\n",
    "print(f\"mySlightlyMoreUsefulFunction(10) => {mySlightlyMoreUsefulFunction(10)}\")\n",
    "# print(f\"mySlightlyMoreUsefulFunction('foo') => {mySlightlyMoreUsefulFunction('foo')}\")   # Note failure here"
   ],
   "metadata": {
    "collapsed": false,
    "pycharm": {
     "name": "#%%\n"
    }
   }
  },
  {
   "cell_type": "code",
   "execution_count": 17,
   "outputs": [
    {
     "name": "stdout",
     "output_type": "stream",
     "text": [
      "mySlightlyMoreUsefulFunction() => 225\n",
      "mySlightlyMoreUsefulFunction(5) => 25\n",
      "mySlightlyMoreUsefulFunction(10) => 100\n"
     ]
    }
   ],
   "source": [
    "# Defaults provided, but anything past the first default creation needs to also have defaults.\n",
    "# Put required first\n",
    "def mySlightlyMoreUsefulFunction(someValue = 15):\n",
    "    return someValue * someValue\n",
    "print(f\"mySlightlyMoreUsefulFunction() => {mySlightlyMoreUsefulFunction()}\")\n",
    "print(f\"mySlightlyMoreUsefulFunction(5) => {mySlightlyMoreUsefulFunction(5)}\")\n",
    "print(f\"mySlightlyMoreUsefulFunction(10) => {mySlightlyMoreUsefulFunction(10)}\")"
   ],
   "metadata": {
    "collapsed": false,
    "pycharm": {
     "name": "#%%\n"
    }
   }
  },
  {
   "cell_type": "code",
   "execution_count": null,
   "outputs": [],
   "source": [
    "def mySlightlyMoreUsefulFunction(requiredValue, someValue = 15):\n",
    "    return someValue * someValue - requiredValue\n",
    "print(f\"mySlightlyMoreUsefulFunction() => {mySlightlyMoreUsefulFunction()}\")\n",
    "print(f\"mySlightlyMoreUsefulFunction(5) => {mySlightlyMoreUsefulFunction(5)}\")\n",
    "print(f\"mySlightlyMoreUsefulFunction(10) => {mySlightlyMoreUsefulFunction(10)}\")"
   ],
   "metadata": {
    "collapsed": false,
    "pycharm": {
     "name": "#%%\n"
    }
   }
  },
  {
   "cell_type": "markdown",
   "source": [
    "## Modules"
   ],
   "metadata": {
    "collapsed": false,
    "pycharm": {
     "name": "#%% md\n"
    }
   }
  },
  {
   "cell_type": "code",
   "execution_count": 20,
   "outputs": [
    {
     "name": "stdout",
     "output_type": "stream",
     "text": [
      "randints => [60 18 98 90 98 81 78 33 68 51]\n",
      "randints2 => [60 18 98 90 98 81 78 33 68 51]\n",
      "randints3 => [60 18 98 90 98 81 78 33 68 51]\n"
     ]
    }
   ],
   "source": [
    "import numpy\n",
    "import numpy.random as rnd\n",
    "from numpy.random import randint\n",
    "\n",
    "numpy.random.seed(1024)\n",
    "randints = numpy.random.randint(1, 100, 10)\n",
    "\n",
    "numpy.random.seed(1024)\n",
    "randints2 = rnd.randint(1, 100, 10)\n",
    "\n",
    "numpy.random.seed(1024)\n",
    "randints3 = randint(1, 100, 10)\n",
    "\n",
    "print(f\"randints => {randints}\")\n",
    "print(f\"randints2 => {randints2}\")\n",
    "print(f\"randints3 => {randints3}\")"
   ],
   "metadata": {
    "collapsed": false,
    "pycharm": {
     "name": "#%%\n"
    }
   }
  },
  {
   "cell_type": "markdown",
   "source": [
    "## NumPy"
   ],
   "metadata": {
    "collapsed": false,
    "pycharm": {
     "name": "#%% md\n"
    }
   }
  }
 ],
 "metadata": {
  "kernelspec": {
   "display_name": "Python 3",
   "language": "python",
   "name": "python3"
  },
  "language_info": {
   "codemirror_mode": {
    "name": "ipython",
    "version": 2
   },
   "file_extension": ".py",
   "mimetype": "text/x-python",
   "name": "python",
   "nbconvert_exporter": "python",
   "pygments_lexer": "ipython2",
   "version": "2.7.6"
  }
 },
 "nbformat": 4,
 "nbformat_minor": 0
}