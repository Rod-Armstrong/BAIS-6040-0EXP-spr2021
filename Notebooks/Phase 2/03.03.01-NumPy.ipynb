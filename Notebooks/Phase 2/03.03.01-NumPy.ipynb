{
 "cells": [
  {
   "cell_type": "markdown",
   "metadata": {
    "collapsed": true,
    "pycharm": {
     "name": "#%% md\n"
    }
   },
   "source": [
    "# 03.03.01 - NumPy\n",
    "\n",
    "## Description\n",
    "\n",
    "This document goes over the very basics of NumPy, general initialization, accessing and so on\n",
    "\n",
    "## Requirements\n",
    "NumPy"
   ]
  },
  {
   "cell_type": "code",
   "execution_count": 1,
   "outputs": [],
   "source": [
    "import numpy as np"
   ],
   "metadata": {
    "collapsed": false,
    "pycharm": {
     "name": "#%%\n"
    }
   }
  },
  {
   "cell_type": "code",
   "execution_count": 3,
   "outputs": [
    {
     "data": {
      "text/plain": "array([1, 2, 3, 4, 5, 6, 7, 8, 9])"
     },
     "execution_count": 3,
     "metadata": {},
     "output_type": "execute_result"
    }
   ],
   "source": [
    "myList = range(1, 10)\n",
    "mySimpleArray = np.array(myList)\n",
    "mySimpleArray"
   ],
   "metadata": {
    "collapsed": false,
    "pycharm": {
     "name": "#%%\n"
    }
   }
  },
  {
   "cell_type": "code",
   "execution_count": 4,
   "outputs": [
    {
     "data": {
      "text/plain": "array([1., 2., 3., 4., 5., 6., 7., 8., 9.])"
     },
     "execution_count": 4,
     "metadata": {},
     "output_type": "execute_result"
    }
   ],
   "source": [
    "# Initialize with a dtype\n",
    "myList = range(1, 10)\n",
    "myFloatArray = np.array(myList, dtype=float)\n",
    "myFloatArray"
   ],
   "metadata": {
    "collapsed": false,
    "pycharm": {
     "name": "#%%\n"
    }
   }
  },
  {
   "cell_type": "code",
   "execution_count": 5,
   "outputs": [
    {
     "data": {
      "text/plain": "1.0"
     },
     "execution_count": 5,
     "metadata": {},
     "output_type": "execute_result"
    }
   ],
   "source": [
    "# Accessing elements\n",
    "myFloatArray[0]"
   ],
   "metadata": {
    "collapsed": false,
    "pycharm": {
     "name": "#%%\n"
    }
   }
  },
  {
   "cell_type": "code",
   "execution_count": 7,
   "outputs": [
    {
     "data": {
      "text/plain": "array([7., 8., 9.])"
     },
     "execution_count": 7,
     "metadata": {},
     "output_type": "execute_result"
    }
   ],
   "source": [
    "# Accessing a range\n",
    "myFloatArray[-3:]"
   ],
   "metadata": {
    "collapsed": false,
    "pycharm": {
     "name": "#%%\n"
    }
   }
  },
  {
   "cell_type": "markdown",
   "source": [
    "## Matrices\n",
    "A matrix is a 2-dimensional array."
   ],
   "metadata": {
    "collapsed": false,
    "pycharm": {
     "name": "#%% md\n"
    }
   }
  },
  {
   "cell_type": "code",
   "execution_count": 16,
   "outputs": [
    {
     "data": {
      "text/plain": "array([[ 1,  2,  3,  4,  5],\n       [ 6,  7,  8,  9, 10]])"
     },
     "execution_count": 16,
     "metadata": {},
     "output_type": "execute_result"
    }
   ],
   "source": [
    "myList = range(1, 11)\n",
    "mySimpleMatrix = np.array(myList)\n",
    "mySimpleMatrix = np.reshape(mySimpleMatrix, (2, 5))\n",
    "mySimpleMatrix"
   ],
   "metadata": {
    "collapsed": false,
    "pycharm": {
     "name": "#%%\n"
    }
   }
  },
  {
   "cell_type": "code",
   "execution_count": 17,
   "outputs": [
    {
     "data": {
      "text/plain": "2"
     },
     "execution_count": 17,
     "metadata": {},
     "output_type": "execute_result"
    }
   ],
   "source": [
    "# Pulling elements out\n",
    "mySimpleMatrix[0,1]  # Single element, remember 0 starting point"
   ],
   "metadata": {
    "collapsed": false,
    "pycharm": {
     "name": "#%%\n"
    }
   }
  },
  {
   "cell_type": "code",
   "execution_count": 18,
   "outputs": [
    {
     "data": {
      "text/plain": "7"
     },
     "execution_count": 18,
     "metadata": {},
     "output_type": "execute_result"
    }
   ],
   "source": [
    "mySimpleMatrix[1,1]\n"
   ],
   "metadata": {
    "collapsed": false,
    "pycharm": {
     "name": "#%%\n"
    }
   }
  },
  {
   "cell_type": "code",
   "execution_count": 19,
   "outputs": [
    {
     "data": {
      "text/plain": "array([[ 6,  7,  8,  9, 10]])"
     },
     "execution_count": 19,
     "metadata": {},
     "output_type": "execute_result"
    }
   ],
   "source": [
    "# Pulling ranges out\n",
    "mySimpleMatrix[1:]"
   ],
   "metadata": {
    "collapsed": false,
    "pycharm": {
     "name": "#%%\n"
    }
   }
  },
  {
   "cell_type": "code",
   "execution_count": 20,
   "outputs": [
    {
     "data": {
      "text/plain": "array([ 9, 10])"
     },
     "execution_count": 20,
     "metadata": {},
     "output_type": "execute_result"
    }
   ],
   "source": [
    "mySimpleMatrix[1, 3:]"
   ],
   "metadata": {
    "collapsed": false,
    "pycharm": {
     "name": "#%%\n"
    }
   }
  },
  {
   "cell_type": "code",
   "execution_count": 25,
   "outputs": [
    {
     "data": {
      "text/plain": "array([[  1,   6],\n       [  2, 500],\n       [  3,   8],\n       [  4,   9],\n       [  5,  10]])"
     },
     "execution_count": 25,
     "metadata": {},
     "output_type": "execute_result"
    }
   ],
   "source": [
    "# Assignment\n",
    "mySimpleMatrix[1, 1] = 500\n",
    "mySimpleMatrix\n",
    "\n",
    "# We can also transpose a matrix, too\n",
    "mySimpleMatrix.transpose()"
   ],
   "metadata": {
    "collapsed": false,
    "pycharm": {
     "name": "#%%\n"
    }
   }
  },
  {
   "cell_type": "markdown",
   "source": [
    "## Generating data types\n",
    "\n",
    "We can generate test data easier using numpy in a lot of ways."
   ],
   "metadata": {
    "collapsed": false,
    "pycharm": {
     "name": "#%% md\n"
    }
   }
  },
  {
   "cell_type": "code",
   "execution_count": 23,
   "outputs": [
    {
     "data": {
      "text/plain": "array([ 5, 35, 29, 10, 30, 33,  9, 86, 62, 38])"
     },
     "execution_count": 23,
     "metadata": {},
     "output_type": "execute_result"
    }
   ],
   "source": [
    "randomInts = np.random.randint(1, 100, 10)\n",
    "randomInts"
   ],
   "metadata": {
    "collapsed": false,
    "pycharm": {
     "name": "#%%\n"
    }
   }
  },
  {
   "cell_type": "code",
   "execution_count": 24,
   "outputs": [
    {
     "data": {
      "text/plain": "array([[12, 21, 58, 48, 99, 74, 61, 87, 60, 16],\n       [ 4, 92, 82, 26,  5,  9, 13, 67, 59, 45],\n       [67, 16,  7, 33, 50, 95, 41, 54, 29, 62],\n       [73, 40, 30, 28, 11, 89, 60, 26, 93, 31],\n       [ 3,  5, 82, 72, 45, 31, 71, 18, 56, 13],\n       [28, 92, 37, 12, 16, 65, 80, 82, 66, 76],\n       [60, 48, 66, 10, 22, 76, 19, 81, 45, 94],\n       [52, 27,  4,  7, 46, 69, 47, 31, 92, 40],\n       [67, 22, 46, 88, 98, 21, 49, 21, 90, 69],\n       [92,  8, 46, 60, 11, 59, 19,  3, 92, 72]])"
     },
     "execution_count": 24,
     "metadata": {},
     "output_type": "execute_result"
    }
   ],
   "source": [
    "randMatrix = np.random.randint(1, 100, size=(10,10))\n",
    "randMatrix"
   ],
   "metadata": {
    "collapsed": false,
    "pycharm": {
     "name": "#%%\n"
    }
   }
  },
  {
   "cell_type": "markdown",
   "source": [
    "## Adding and processing Arrays/matrices"
   ],
   "metadata": {
    "collapsed": false,
    "pycharm": {
     "name": "#%% md\n"
    }
   }
  },
  {
   "cell_type": "code",
   "execution_count": 27,
   "outputs": [
    {
     "data": {
      "text/plain": "array([[ 78,  52,  90, 101, 146, 168, 126, 160, 120,  94],\n       [182, 113,  93,  64, 101,  88,  46, 103, 124, 102],\n       [ 67, 128,  54, 178, 132, 119,  13,  78, 142, 155],\n       [ 72, 128, 101, 181,  98, 120, 128,  48, 179,  23],\n       [134, 140, 130, 178,  95, 133,  58, 133,  23, 100],\n       [ 71, 175, 119, 143, 176, 117, 133,  73, 161, 121],\n       [ 73,  41, 119, 127, 148, 124, 121,  21, 140, 123],\n       [119,  74,  95, 113,  80,  83, 132, 188, 131, 169],\n       [ 62,  70,  92,  41, 138, 174, 184, 150, 128,  88],\n       [121,  60, 126, 124,  44, 111, 153,  51,  69, 114]])"
     },
     "execution_count": 27,
     "metadata": {},
     "output_type": "execute_result"
    }
   ],
   "source": [
    "randMatrixA = np.random.randint(1, 100, size=(10,10))\n",
    "randMatrixB = np.random.randint(1, 100, size=(10,10))\n",
    "randMatrixC = randMatrixA + randMatrixB  # Note we're adding the two elements\n",
    "randMatrixC"
   ],
   "metadata": {
    "collapsed": false,
    "pycharm": {
     "name": "#%%\n"
    }
   }
  },
  {
   "cell_type": "code",
   "execution_count": 33,
   "outputs": [
    {
     "data": {
      "text/plain": "array([[30, 34, 83, 39, 52, 88, 31, 62, 35, 15],\n       [96, 49, 84, 57, 65, 77, 18, 22, 40, 29],\n       [26, 56, 25, 86, 73, 79, 11, 74, 81, 89],\n       [49, 83, 91, 86, 14, 74, 39,  4, 96, 18],\n       [49, 88, 88, 85, 85, 52, 46, 73,  8, 96],\n       [17, 89, 63, 81, 93, 71, 54,  4, 96, 92],\n       [63, 32, 54, 39, 93, 92, 70,  5, 82, 78],\n       [83, 44, 16, 26, 52, 69, 56, 90, 37, 87],\n       [ 4, 54, 88, 39, 81, 92, 85, 57, 92, 57],\n       [50, 24, 86, 30,  7, 64, 76, 28, 50, 56]])"
     },
     "execution_count": 33,
     "metadata": {},
     "output_type": "execute_result"
    }
   ],
   "source": [
    "randMatrixA"
   ],
   "metadata": {
    "collapsed": false,
    "pycharm": {
     "name": "#%%\n"
    }
   }
  },
  {
   "cell_type": "code",
   "execution_count": 34,
   "outputs": [
    {
     "data": {
      "text/plain": "array([[48, 18,  7, 62, 94, 80, 95, 98, 85, 79],\n       [86, 64,  9,  7, 36, 11, 28, 81, 84, 73],\n       [41, 72, 29, 92, 59, 40,  2,  4, 61, 66],\n       [23, 45, 10, 95, 84, 46, 89, 44, 83,  5],\n       [85, 52, 42, 93, 10, 81, 12, 60, 15,  4],\n       [54, 86, 56, 62, 83, 46, 79, 69, 65, 29],\n       [10,  9, 65, 88, 55, 32, 51, 16, 58, 45],\n       [36, 30, 79, 87, 28, 14, 76, 98, 94, 82],\n       [58, 16,  4,  2, 57, 82, 99, 93, 36, 31],\n       [71, 36, 40, 94, 37, 47, 77, 23, 19, 58]])"
     },
     "execution_count": 34,
     "metadata": {},
     "output_type": "execute_result"
    }
   ],
   "source": [
    "randMatrixB"
   ],
   "metadata": {
    "collapsed": false,
    "pycharm": {
     "name": "#%%\n"
    }
   }
  },
  {
   "cell_type": "code",
   "execution_count": 32,
   "outputs": [
    {
     "data": {
      "text/plain": "array([[30, 34, 83, 39, 52, 88, 31, 62, 35, 15],\n       [96, 49, 84, 57, 65, 77, 18, 22, 40, 29],\n       [26, 56, 25, 86, 73, 79, 11, 74, 81, 89],\n       [49, 83, 91, 86, 14, 74, 39,  4, 96, 18],\n       [49, 88, 88, 85, 85, 52, 46, 73,  8, 96],\n       [17, 89, 63, 81, 93, 71, 54,  4, 96, 92],\n       [63, 32, 54, 39, 93, 92, 70,  5, 82, 78],\n       [83, 44, 16, 26, 52, 69, 56, 90, 37, 87],\n       [ 4, 54, 88, 39, 81, 92, 85, 57, 92, 57],\n       [50, 24, 86, 30,  7, 64, 76, 28, 50, 56],\n       [48, 18,  7, 62, 94, 80, 95, 98, 85, 79],\n       [86, 64,  9,  7, 36, 11, 28, 81, 84, 73],\n       [41, 72, 29, 92, 59, 40,  2,  4, 61, 66],\n       [23, 45, 10, 95, 84, 46, 89, 44, 83,  5],\n       [85, 52, 42, 93, 10, 81, 12, 60, 15,  4],\n       [54, 86, 56, 62, 83, 46, 79, 69, 65, 29],\n       [10,  9, 65, 88, 55, 32, 51, 16, 58, 45],\n       [36, 30, 79, 87, 28, 14, 76, 98, 94, 82],\n       [58, 16,  4,  2, 57, 82, 99, 93, 36, 31],\n       [71, 36, 40, 94, 37, 47, 77, 23, 19, 58]])"
     },
     "execution_count": 32,
     "metadata": {},
     "output_type": "execute_result"
    }
   ],
   "source": [
    "# Concatenate one block on another\n",
    "np.concatenate([randMatrixA, randMatrixB], axis=0)"
   ],
   "metadata": {
    "collapsed": false,
    "pycharm": {
     "name": "#%%\n"
    }
   }
  },
  {
   "cell_type": "code",
   "execution_count": null,
   "outputs": [],
   "source": [
    "# Concatenate\n",
    "np.concatenate([randMatrixA, randMatrixB], axis=1)"
   ],
   "metadata": {
    "collapsed": false,
    "pycharm": {
     "name": "#%%\n"
    }
   }
  },
  {
   "cell_type": "code",
   "execution_count": null,
   "outputs": [],
   "source": [
    "# Concatenate \n",
    "np.concatenate([randMatrixA, randMatrixB], axis=1)"
   ],
   "metadata": {
    "collapsed": false,
    "pycharm": {
     "name": "#%%\n"
    }
   }
  },
  {
   "cell_type": "code",
   "execution_count": 31,
   "outputs": [
    {
     "data": {
      "text/plain": "array([[30, 34, 83, 39, 52, 88, 31, 62, 35, 15, 48, 18,  7, 62, 94, 80,\n        95, 98, 85, 79],\n       [96, 49, 84, 57, 65, 77, 18, 22, 40, 29, 86, 64,  9,  7, 36, 11,\n        28, 81, 84, 73],\n       [26, 56, 25, 86, 73, 79, 11, 74, 81, 89, 41, 72, 29, 92, 59, 40,\n         2,  4, 61, 66],\n       [49, 83, 91, 86, 14, 74, 39,  4, 96, 18, 23, 45, 10, 95, 84, 46,\n        89, 44, 83,  5],\n       [49, 88, 88, 85, 85, 52, 46, 73,  8, 96, 85, 52, 42, 93, 10, 81,\n        12, 60, 15,  4],\n       [17, 89, 63, 81, 93, 71, 54,  4, 96, 92, 54, 86, 56, 62, 83, 46,\n        79, 69, 65, 29],\n       [63, 32, 54, 39, 93, 92, 70,  5, 82, 78, 10,  9, 65, 88, 55, 32,\n        51, 16, 58, 45],\n       [83, 44, 16, 26, 52, 69, 56, 90, 37, 87, 36, 30, 79, 87, 28, 14,\n        76, 98, 94, 82],\n       [ 4, 54, 88, 39, 81, 92, 85, 57, 92, 57, 58, 16,  4,  2, 57, 82,\n        99, 93, 36, 31],\n       [50, 24, 86, 30,  7, 64, 76, 28, 50, 56, 71, 36, 40, 94, 37, 47,\n        77, 23, 19, 58]])"
     },
     "execution_count": 31,
     "metadata": {},
     "output_type": "execute_result"
    }
   ],
   "source": [
    "# Concatenate \n",
    "np.concatenate([randMatrixA, randMatrixB], axis=1)"
   ],
   "metadata": {
    "collapsed": false,
    "pycharm": {
     "name": "#%%\n"
    }
   }
  },
  {
   "cell_type": "code",
   "execution_count": null,
   "outputs": [],
   "source": [],
   "metadata": {
    "collapsed": false,
    "pycharm": {
     "name": "#%%\n"
    }
   }
  },
  {
   "cell_type": "code",
   "execution_count": null,
   "outputs": [],
   "source": [],
   "metadata": {
    "collapsed": false,
    "pycharm": {
     "name": "#%%\n"
    }
   }
  },
  {
   "cell_type": "code",
   "execution_count": null,
   "outputs": [],
   "source": [],
   "metadata": {
    "collapsed": false,
    "pycharm": {
     "name": "#%%\n"
    }
   }
  },
  {
   "cell_type": "code",
   "execution_count": null,
   "outputs": [],
   "source": [],
   "metadata": {
    "collapsed": false,
    "pycharm": {
     "name": "#%%\n"
    }
   }
  },
  {
   "cell_type": "code",
   "execution_count": null,
   "outputs": [],
   "source": [],
   "metadata": {
    "collapsed": false,
    "pycharm": {
     "name": "#%%\n"
    }
   }
  },
  {
   "cell_type": "code",
   "execution_count": null,
   "outputs": [],
   "source": [],
   "metadata": {
    "collapsed": false,
    "pycharm": {
     "name": "#%%\n"
    }
   }
  },
  {
   "cell_type": "code",
   "execution_count": null,
   "outputs": [],
   "source": [],
   "metadata": {
    "collapsed": false,
    "pycharm": {
     "name": "#%%\n"
    }
   }
  },
  {
   "cell_type": "code",
   "execution_count": null,
   "outputs": [],
   "source": [],
   "metadata": {
    "collapsed": false,
    "pycharm": {
     "name": "#%%\n"
    }
   }
  },
  {
   "cell_type": "code",
   "execution_count": null,
   "outputs": [],
   "source": [],
   "metadata": {
    "collapsed": false,
    "pycharm": {
     "name": "#%%\n"
    }
   }
  },
  {
   "cell_type": "code",
   "execution_count": null,
   "outputs": [],
   "source": [],
   "metadata": {
    "collapsed": false,
    "pycharm": {
     "name": "#%%\n"
    }
   }
  },
  {
   "cell_type": "code",
   "execution_count": null,
   "outputs": [],
   "source": [],
   "metadata": {
    "collapsed": false,
    "pycharm": {
     "name": "#%%\n"
    }
   }
  },
  {
   "cell_type": "code",
   "execution_count": null,
   "outputs": [],
   "source": [],
   "metadata": {
    "collapsed": false,
    "pycharm": {
     "name": "#%%\n"
    }
   }
  },
  {
   "cell_type": "code",
   "execution_count": null,
   "outputs": [],
   "source": [],
   "metadata": {
    "collapsed": false,
    "pycharm": {
     "name": "#%%\n"
    }
   }
  },
  {
   "cell_type": "code",
   "execution_count": null,
   "outputs": [],
   "source": [],
   "metadata": {
    "collapsed": false,
    "pycharm": {
     "name": "#%%\n"
    }
   }
  },
  {
   "cell_type": "code",
   "execution_count": null,
   "outputs": [],
   "source": [],
   "metadata": {
    "collapsed": false,
    "pycharm": {
     "name": "#%%\n"
    }
   }
  },
  {
   "cell_type": "code",
   "execution_count": null,
   "outputs": [],
   "source": [],
   "metadata": {
    "collapsed": false,
    "pycharm": {
     "name": "#%%\n"
    }
   }
  },
  {
   "cell_type": "code",
   "execution_count": null,
   "outputs": [],
   "source": [],
   "metadata": {
    "collapsed": false,
    "pycharm": {
     "name": "#%%\n"
    }
   }
  },
  {
   "cell_type": "code",
   "execution_count": null,
   "outputs": [],
   "source": [],
   "metadata": {
    "collapsed": false,
    "pycharm": {
     "name": "#%%\n"
    }
   }
  },
  {
   "cell_type": "code",
   "execution_count": null,
   "outputs": [],
   "source": [],
   "metadata": {
    "collapsed": false,
    "pycharm": {
     "name": "#%%\n"
    }
   }
  },
  {
   "cell_type": "code",
   "execution_count": null,
   "outputs": [],
   "source": [],
   "metadata": {
    "collapsed": false,
    "pycharm": {
     "name": "#%%\n"
    }
   }
  },
  {
   "cell_type": "code",
   "execution_count": null,
   "outputs": [],
   "source": [],
   "metadata": {
    "collapsed": false,
    "pycharm": {
     "name": "#%%\n"
    }
   }
  }
 ],
 "metadata": {
  "kernelspec": {
   "display_name": "Python 3",
   "language": "python",
   "name": "python3"
  },
  "language_info": {
   "codemirror_mode": {
    "name": "ipython",
    "version": 2
   },
   "file_extension": ".py",
   "mimetype": "text/x-python",
   "name": "python",
   "nbconvert_exporter": "python",
   "pygments_lexer": "ipython2",
   "version": "2.7.6"
  }
 },
 "nbformat": 4,
 "nbformat_minor": 0
}